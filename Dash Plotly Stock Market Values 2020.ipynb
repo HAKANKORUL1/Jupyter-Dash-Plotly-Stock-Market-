{
 "cells": [
  {
   "cell_type": "code",
   "execution_count": 1,
   "id": "29cc3b6e",
   "metadata": {},
   "outputs": [],
   "source": [
    "import dash\n",
    "from dash import dcc, html\n",
    "from dash.dependencies import Output, Input\n",
    "import plotly.express as px\n",
    "import dash_bootstrap_components as dbc\n",
    "import pandas as pd\n",
    "import pandas_datareader.data as web\n",
    "import datetime\n",
    "import pandas_datareader.data as web\n",
    "import datetime\n",
    "from jupyter_dash import JupyterDash\n",
    "from dash import html\n",
    "from dash import dcc\n",
    "import dash_bootstrap_components as dbc\n",
    "\n",
    "\n",
    "\n",
    "start = datetime.datetime(2020,1,1)\n",
    "end = datetime.datetime(2020,12,3)\n",
    "df = web.DataReader(['AMZN','GOOGL','FB','PFE','MRNA','BNTX'],\n",
    "                    'stooq', start=start, end=end)\n",
    "# df=df.melt(ignore_index=False, value_name=\"price\").reset_index()\n",
    "df = df.stack().reset_index()"
   ]
  },
  {
   "cell_type": "code",
   "execution_count": 2,
   "id": "72ce0a1b",
   "metadata": {},
   "outputs": [
    {
     "data": {
      "text/html": [
       "<div>\n",
       "<style scoped>\n",
       "    .dataframe tbody tr th:only-of-type {\n",
       "        vertical-align: middle;\n",
       "    }\n",
       "\n",
       "    .dataframe tbody tr th {\n",
       "        vertical-align: top;\n",
       "    }\n",
       "\n",
       "    .dataframe thead th {\n",
       "        text-align: right;\n",
       "    }\n",
       "</style>\n",
       "<table border=\"1\" class=\"dataframe\">\n",
       "  <thead>\n",
       "    <tr style=\"text-align: right;\">\n",
       "      <th>Attributes</th>\n",
       "      <th>level_0</th>\n",
       "      <th>Symbols</th>\n",
       "      <th>Close</th>\n",
       "      <th>High</th>\n",
       "      <th>Low</th>\n",
       "      <th>Open</th>\n",
       "      <th>Volume</th>\n",
       "    </tr>\n",
       "  </thead>\n",
       "  <tbody>\n",
       "    <tr>\n",
       "      <th>0</th>\n",
       "      <td>2020-01-02</td>\n",
       "      <td>AMZN</td>\n",
       "      <td>94.9005</td>\n",
       "      <td>94.9005</td>\n",
       "      <td>93.2075</td>\n",
       "      <td>93.7500</td>\n",
       "      <td>8.071820e+07</td>\n",
       "    </tr>\n",
       "    <tr>\n",
       "      <th>1</th>\n",
       "      <td>2020-01-02</td>\n",
       "      <td>GOOGL</td>\n",
       "      <td>68.4340</td>\n",
       "      <td>68.4340</td>\n",
       "      <td>67.3245</td>\n",
       "      <td>67.4205</td>\n",
       "      <td>2.728530e+07</td>\n",
       "    </tr>\n",
       "    <tr>\n",
       "      <th>2</th>\n",
       "      <td>2020-01-02</td>\n",
       "      <td>PFE</td>\n",
       "      <td>35.0488</td>\n",
       "      <td>35.2381</td>\n",
       "      <td>34.8126</td>\n",
       "      <td>35.1943</td>\n",
       "      <td>1.749704e+07</td>\n",
       "    </tr>\n",
       "    <tr>\n",
       "      <th>3</th>\n",
       "      <td>2020-01-02</td>\n",
       "      <td>MRNA</td>\n",
       "      <td>19.2300</td>\n",
       "      <td>19.8100</td>\n",
       "      <td>18.8800</td>\n",
       "      <td>19.5700</td>\n",
       "      <td>1.229434e+06</td>\n",
       "    </tr>\n",
       "    <tr>\n",
       "      <th>4</th>\n",
       "      <td>2020-01-02</td>\n",
       "      <td>BNTX</td>\n",
       "      <td>38.1343</td>\n",
       "      <td>38.1343</td>\n",
       "      <td>35.0241</td>\n",
       "      <td>35.4104</td>\n",
       "      <td>1.410105e+05</td>\n",
       "    </tr>\n",
       "  </tbody>\n",
       "</table>\n",
       "</div>"
      ],
      "text/plain": [
       "Attributes    level_0 Symbols    Close     High      Low     Open  \\\n",
       "0          2020-01-02    AMZN  94.9005  94.9005  93.2075  93.7500   \n",
       "1          2020-01-02   GOOGL  68.4340  68.4340  67.3245  67.4205   \n",
       "2          2020-01-02     PFE  35.0488  35.2381  34.8126  35.1943   \n",
       "3          2020-01-02    MRNA  19.2300  19.8100  18.8800  19.5700   \n",
       "4          2020-01-02    BNTX  38.1343  38.1343  35.0241  35.4104   \n",
       "\n",
       "Attributes        Volume  \n",
       "0           8.071820e+07  \n",
       "1           2.728530e+07  \n",
       "2           1.749704e+07  \n",
       "3           1.229434e+06  \n",
       "4           1.410105e+05  "
      ]
     },
     "execution_count": 2,
     "metadata": {},
     "output_type": "execute_result"
    }
   ],
   "source": [
    "df.head()"
   ]
  },
  {
   "cell_type": "code",
   "execution_count": 3,
   "id": "58c5f12f",
   "metadata": {},
   "outputs": [
    {
     "data": {
      "text/plain": [
       "Index(['level_0', 'Symbols', 'Close', 'High', 'Low', 'Open', 'Volume'], dtype='object', name='Attributes')"
      ]
     },
     "execution_count": 3,
     "metadata": {},
     "output_type": "execute_result"
    }
   ],
   "source": [
    "df.columns"
   ]
  },
  {
   "cell_type": "code",
   "execution_count": 4,
   "id": "744d18a5",
   "metadata": {},
   "outputs": [
    {
     "data": {
      "text/plain": [
       "(Timestamp('2020-01-02 00:00:00'), Timestamp('2020-12-03 00:00:00'))"
      ]
     },
     "execution_count": 4,
     "metadata": {},
     "output_type": "execute_result"
    }
   ],
   "source": [
    "df.level_0.min(), df.level_0.max()"
   ]
  },
  {
   "cell_type": "code",
   "execution_count": 5,
   "id": "8f0ae6a1",
   "metadata": {},
   "outputs": [
    {
     "data": {
      "text/plain": [
       "Attributes\n",
       "level_0    datetime64[ns]\n",
       "Symbols            object\n",
       "Close             float64\n",
       "High              float64\n",
       "Low               float64\n",
       "Open              float64\n",
       "Volume            float64\n",
       "dtype: object"
      ]
     },
     "execution_count": 5,
     "metadata": {},
     "output_type": "execute_result"
    }
   ],
   "source": [
    "df.dtypes"
   ]
  },
  {
   "cell_type": "code",
   "execution_count": 6,
   "id": "2b3e78e8",
   "metadata": {},
   "outputs": [],
   "source": [
    "df[\"month\"] = df[\"level_0\"].apply(lambda x: x.month)"
   ]
  },
  {
   "cell_type": "code",
   "execution_count": 7,
   "id": "3fa244e2",
   "metadata": {},
   "outputs": [],
   "source": [
    "df.rename(columns={\"level_0\":\"date\"},inplace=True)"
   ]
  },
  {
   "cell_type": "code",
   "execution_count": 8,
   "id": "22791a67",
   "metadata": {},
   "outputs": [
    {
     "data": {
      "text/plain": [
       "array(['AMZN', 'GOOGL', 'PFE', 'MRNA', 'BNTX'], dtype=object)"
      ]
     },
     "execution_count": 8,
     "metadata": {},
     "output_type": "execute_result"
    }
   ],
   "source": [
    "df.Symbols.unique()"
   ]
  },
  {
   "cell_type": "code",
   "execution_count": 11,
   "id": "70818f59",
   "metadata": {},
   "outputs": [
    {
     "data": {
      "text/html": [
       "<div>\n",
       "<style scoped>\n",
       "    .dataframe tbody tr th:only-of-type {\n",
       "        vertical-align: middle;\n",
       "    }\n",
       "\n",
       "    .dataframe tbody tr th {\n",
       "        vertical-align: top;\n",
       "    }\n",
       "\n",
       "    .dataframe thead th {\n",
       "        text-align: right;\n",
       "    }\n",
       "</style>\n",
       "<table border=\"1\" class=\"dataframe\">\n",
       "  <thead>\n",
       "    <tr style=\"text-align: right;\">\n",
       "      <th>Attributes</th>\n",
       "      <th>date</th>\n",
       "      <th>Symbols</th>\n",
       "      <th>Close</th>\n",
       "      <th>High</th>\n",
       "      <th>Low</th>\n",
       "      <th>Open</th>\n",
       "      <th>Volume</th>\n",
       "      <th>month</th>\n",
       "    </tr>\n",
       "  </thead>\n",
       "  <tbody>\n",
       "    <tr>\n",
       "      <th>0</th>\n",
       "      <td>2020-01-02</td>\n",
       "      <td>AMZN</td>\n",
       "      <td>94.9005</td>\n",
       "      <td>94.9005</td>\n",
       "      <td>93.2075</td>\n",
       "      <td>93.7500</td>\n",
       "      <td>8.071820e+07</td>\n",
       "      <td>1</td>\n",
       "    </tr>\n",
       "    <tr>\n",
       "      <th>1</th>\n",
       "      <td>2020-01-02</td>\n",
       "      <td>GOOGL</td>\n",
       "      <td>68.4340</td>\n",
       "      <td>68.4340</td>\n",
       "      <td>67.3245</td>\n",
       "      <td>67.4205</td>\n",
       "      <td>2.728530e+07</td>\n",
       "      <td>1</td>\n",
       "    </tr>\n",
       "    <tr>\n",
       "      <th>2</th>\n",
       "      <td>2020-01-02</td>\n",
       "      <td>PFE</td>\n",
       "      <td>35.0488</td>\n",
       "      <td>35.2381</td>\n",
       "      <td>34.8126</td>\n",
       "      <td>35.1943</td>\n",
       "      <td>1.749704e+07</td>\n",
       "      <td>1</td>\n",
       "    </tr>\n",
       "    <tr>\n",
       "      <th>3</th>\n",
       "      <td>2020-01-02</td>\n",
       "      <td>MRNA</td>\n",
       "      <td>19.2300</td>\n",
       "      <td>19.8100</td>\n",
       "      <td>18.8800</td>\n",
       "      <td>19.5700</td>\n",
       "      <td>1.229434e+06</td>\n",
       "      <td>1</td>\n",
       "    </tr>\n",
       "    <tr>\n",
       "      <th>4</th>\n",
       "      <td>2020-01-02</td>\n",
       "      <td>BNTX</td>\n",
       "      <td>38.1343</td>\n",
       "      <td>38.1343</td>\n",
       "      <td>35.0241</td>\n",
       "      <td>35.4104</td>\n",
       "      <td>1.410105e+05</td>\n",
       "      <td>1</td>\n",
       "    </tr>\n",
       "  </tbody>\n",
       "</table>\n",
       "</div>"
      ],
      "text/plain": [
       "Attributes       date Symbols    Close     High      Low     Open  \\\n",
       "0          2020-01-02    AMZN  94.9005  94.9005  93.2075  93.7500   \n",
       "1          2020-01-02   GOOGL  68.4340  68.4340  67.3245  67.4205   \n",
       "2          2020-01-02     PFE  35.0488  35.2381  34.8126  35.1943   \n",
       "3          2020-01-02    MRNA  19.2300  19.8100  18.8800  19.5700   \n",
       "4          2020-01-02    BNTX  38.1343  38.1343  35.0241  35.4104   \n",
       "\n",
       "Attributes        Volume  month  \n",
       "0           8.071820e+07      1  \n",
       "1           2.728530e+07      1  \n",
       "2           1.749704e+07      1  \n",
       "3           1.229434e+06      1  \n",
       "4           1.410105e+05      1  "
      ]
     },
     "execution_count": 11,
     "metadata": {},
     "output_type": "execute_result"
    }
   ],
   "source": [
    "df.head()"
   ]
  },
  {
   "cell_type": "code",
   "execution_count": 13,
   "id": "63c06dda",
   "metadata": {},
   "outputs": [
    {
     "name": "stdout",
     "output_type": "stream",
     "text": [
      "Dash is running on http://127.0.0.1:8050/\n",
      "\n"
     ]
    },
    {
     "data": {
      "text/html": [
       "\n",
       "        <iframe\n",
       "            width=\"100%\"\n",
       "            height=\"650\"\n",
       "            src=\"http://127.0.0.1:8050/\"\n",
       "            frameborder=\"0\"\n",
       "            allowfullscreen\n",
       "            \n",
       "        ></iframe>\n",
       "        "
      ],
      "text/plain": [
       "<IPython.lib.display.IFrame at 0x13cbc4fd0>"
      ]
     },
     "metadata": {},
     "output_type": "display_data"
    }
   ],
   "source": [
    "app = JupyterDash(__name__, external_stylesheets=[dbc.themes.BOOTSTRAP]\n",
    "                  #MOBİLE LAYOUT,\n",
    "                  #meta_tags=[{'name': 'viewport',\n",
    "                  #          'content': 'width=device-width, initial-scale=1.0'}]\n",
    "                 )\n",
    "app.layout = dbc.Container([\n",
    "    dbc.Row([  #1.row row kullandıktqan sonra kolon kullan, birden fazla column kullanılabilir ama burada direkt title olduğu için bütün rowu kapsar \n",
    "        dbc.Col(html.H1(\"Stock Market 2020 Performance Dashboard\",\n",
    "                        className='text-center text-primary mb-4'),\n",
    "               width=12)\n",
    "    ]),\n",
    "    \n",
    "    dbc.Row([\n",
    "\n",
    "        dbc.Col([\n",
    "            dcc.Dropdown(id='my-dp', multi=False, value='AMZN',\n",
    "                         options=[{'label':x, 'value':x}\n",
    "                                  for x in sorted(df['Symbols'].unique())],\n",
    "                         ),\n",
    "            dcc.Graph(id='line', figure={})\n",
    "        ], width={'size':5, 'offset':1, 'order':1},\n",
    "           #xs=12, sm=12, md=12, lg=5, xl=5\n",
    "        ),\n",
    "\n",
    "        dbc.Col([\n",
    "            dcc.Dropdown(id='my-dp2', multi=True, value=['PFE','BNTX'],\n",
    "                         options=[{'label':x, 'value':x}\n",
    "                                  for x in sorted(df['Symbols'].unique())],\n",
    "                         ),\n",
    "            dcc.Graph(id='line2', figure={})\n",
    "        ], width={'size':5, 'offset':0, 'order':2},\n",
    "           #xs=12, sm=12, md=12, lg=5, xl=5\n",
    "        ),\n",
    "\n",
    "    ], justify='start'),\n",
    "    \n",
    "    \n",
    "    dbc.Row([\n",
    "        dbc.Col([\n",
    "            html.P(\"Select Company Stock:\",\n",
    "                   style={\"textDecoration\": \"underline\"}),\n",
    "            dcc.Checklist(id='my-checklist', value=['FB', 'GOOGL', 'AMZN'],\n",
    "                          options=[{'label':x, 'value':x}\n",
    "                                   for x in sorted(df['Symbols'].unique())],\n",
    "                          #inline=True,\n",
    "                          labelClassName=\"mr-3\"),\n",
    "            dcc.Graph(id='my-hist', figure={}),\n",
    "        ], width={'size':8, 'offset':1},\n",
    "           #xs=12, sm=12, md=12, lg=5, xl=5\n",
    "        )\n",
    "    ], align=\"center\")\n",
    "], fluid=True #default fluid false ancak bu rowlarda space bırakır sağda ve solda başlangıç bitiş boşluk koyar bunun için width kullanılabilir offset ile \n",
    ")\n",
    "\n",
    "\n",
    "@app.callback(\n",
    "    Output('line','figure'),\n",
    "    Input('my-dp','value')\n",
    ")\n",
    "def update_graph(stock_slctd):\n",
    "    dff = df[df[\"Symbols\"]==stock_slctd]\n",
    "    figln = px.line(data_frame=dff,x='date',y='High')\n",
    "    return figln   #output line-fig id için figure alanına koyar\n",
    "\n",
    "\n",
    "@app.callback(\n",
    "    Output('line2','figure'),\n",
    "    Input('my-dp2','value')\n",
    ")\n",
    "\n",
    "def update_graph(stock_slctd):\n",
    "    dff = df[df['Symbols'].isin(stock_slctd)]\n",
    "    figln2 = px.line(dff, x='date', y='Open', color='Symbols')\n",
    "    return figln2\n",
    "\n",
    "\n",
    "# Histogram\n",
    "@app.callback(\n",
    "    Output('my-hist', 'figure'),\n",
    "    Input('my-checklist', 'value')\n",
    ")\n",
    "def update_graph(stock_slctd):\n",
    "    dff = df[df['Symbols'].isin(stock_slctd)]\n",
    "    #dff = dff[dff['date']=='2020-12-03']\n",
    "    fighist = px.histogram(dff, x='Symbols', y='Close',\n",
    "                          animation_frame=\"month\",\n",
    "                          range_y=[0,4000])\n",
    "    return fighist\n",
    "\n",
    "\n",
    "\n",
    "\n",
    "\n",
    "\n",
    "\n",
    "\n",
    "\n",
    "if __name__ == \"__main__\":\n",
    "    app.run_server(mode='inline')"
   ]
  },
  {
   "cell_type": "code",
   "execution_count": null,
   "id": "283b5593",
   "metadata": {},
   "outputs": [],
   "source": []
  }
 ],
 "metadata": {
  "kernelspec": {
   "display_name": "Python 3 (ipykernel)",
   "language": "python",
   "name": "python3"
  },
  "language_info": {
   "codemirror_mode": {
    "name": "ipython",
    "version": 3
   },
   "file_extension": ".py",
   "mimetype": "text/x-python",
   "name": "python",
   "nbconvert_exporter": "python",
   "pygments_lexer": "ipython3",
   "version": "3.9.13"
  }
 },
 "nbformat": 4,
 "nbformat_minor": 5
}
